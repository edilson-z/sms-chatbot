{
 "cells": [
  {
   "cell_type": "code",
   "execution_count": 1,
   "id": "9543c847-bd76-4463-9dec-a7b102697021",
   "metadata": {},
   "outputs": [],
   "source": [
    "import pandas as pd"
   ]
  },
  {
   "cell_type": "code",
   "execution_count": 3,
   "id": "ff8a0b2e-cb4b-4d05-aae8-7c95d2b59af5",
   "metadata": {},
   "outputs": [],
   "source": [
    "df = pd.read_json('EdilsonsProjects.AgriBot_SMS_Data.json')"
   ]
  },
  {
   "cell_type": "code",
   "execution_count": 5,
   "id": "185b29d3-680b-40fa-aa7c-8ee1994803c5",
   "metadata": {},
   "outputs": [
    {
     "data": {
      "text/html": [
       "<div>\n",
       "<style scoped>\n",
       "    .dataframe tbody tr th:only-of-type {\n",
       "        vertical-align: middle;\n",
       "    }\n",
       "\n",
       "    .dataframe tbody tr th {\n",
       "        vertical-align: top;\n",
       "    }\n",
       "\n",
       "    .dataframe thead th {\n",
       "        text-align: right;\n",
       "    }\n",
       "</style>\n",
       "<table border=\"1\" class=\"dataframe\">\n",
       "  <thead>\n",
       "    <tr style=\"text-align: right;\">\n",
       "      <th></th>\n",
       "      <th>_id</th>\n",
       "      <th>phone_number</th>\n",
       "      <th>submission_date</th>\n",
       "      <th>personal_info</th>\n",
       "      <th>location</th>\n",
       "      <th>farming_details</th>\n",
       "      <th>challenges</th>\n",
       "      <th>raw_responses</th>\n",
       "    </tr>\n",
       "  </thead>\n",
       "  <tbody>\n",
       "    <tr>\n",
       "      <th>0</th>\n",
       "      <td>{'$oid': '67208e32af224b1d581a8805'}</td>\n",
       "      <td>264818779053</td>\n",
       "      <td>{'$date': '2024-10-29T07:26:42.818Z'}</td>\n",
       "      <td>{'name': 'Edilson Zau', 'date_of_birth': '24 O...</td>\n",
       "      <td>{'region': 'Khomas', 'constituency': 'Windhoek...</td>\n",
       "      <td>{'products': ['Tomatoes', 'carrots and cabbage...</td>\n",
       "      <td>My main challenge is getting the funds for gro...</td>\n",
       "      <td>{'Are you certified by the Namibia Agronomic B...</td>\n",
       "    </tr>\n",
       "  </tbody>\n",
       "</table>\n",
       "</div>"
      ],
      "text/plain": [
       "                                    _id  phone_number  \\\n",
       "0  {'$oid': '67208e32af224b1d581a8805'}  264818779053   \n",
       "\n",
       "                         submission_date  \\\n",
       "0  {'$date': '2024-10-29T07:26:42.818Z'}   \n",
       "\n",
       "                                       personal_info  \\\n",
       "0  {'name': 'Edilson Zau', 'date_of_birth': '24 O...   \n",
       "\n",
       "                                            location  \\\n",
       "0  {'region': 'Khomas', 'constituency': 'Windhoek...   \n",
       "\n",
       "                                     farming_details  \\\n",
       "0  {'products': ['Tomatoes', 'carrots and cabbage...   \n",
       "\n",
       "                                          challenges  \\\n",
       "0  My main challenge is getting the funds for gro...   \n",
       "\n",
       "                                       raw_responses  \n",
       "0  {'Are you certified by the Namibia Agronomic B...  "
      ]
     },
     "execution_count": 5,
     "metadata": {},
     "output_type": "execute_result"
    }
   ],
   "source": [
    "df.head()"
   ]
  },
  {
   "cell_type": "code",
   "execution_count": 7,
   "id": "0a297156-f8ff-42ab-9598-39b8c4c96678",
   "metadata": {},
   "outputs": [
    {
     "name": "stdout",
     "output_type": "stream",
     "text": [
      "<class 'pandas.core.frame.DataFrame'>\n",
      "RangeIndex: 1 entries, 0 to 0\n",
      "Data columns (total 8 columns):\n",
      " #   Column           Non-Null Count  Dtype \n",
      "---  ------           --------------  ----- \n",
      " 0   _id              1 non-null      object\n",
      " 1   phone_number     1 non-null      int64 \n",
      " 2   submission_date  1 non-null      object\n",
      " 3   personal_info    1 non-null      object\n",
      " 4   location         1 non-null      object\n",
      " 5   farming_details  1 non-null      object\n",
      " 6   challenges       1 non-null      object\n",
      " 7   raw_responses    1 non-null      object\n",
      "dtypes: int64(1), object(7)\n",
      "memory usage: 196.0+ bytes\n"
     ]
    }
   ],
   "source": [
    "df.info()"
   ]
  },
  {
   "cell_type": "code",
   "execution_count": 9,
   "id": "26a3c521-ab8f-427c-b8c9-9e5ebd91327f",
   "metadata": {},
   "outputs": [
    {
     "data": {
      "text/html": [
       "<div>\n",
       "<style scoped>\n",
       "    .dataframe tbody tr th:only-of-type {\n",
       "        vertical-align: middle;\n",
       "    }\n",
       "\n",
       "    .dataframe tbody tr th {\n",
       "        vertical-align: top;\n",
       "    }\n",
       "\n",
       "    .dataframe thead th {\n",
       "        text-align: right;\n",
       "    }\n",
       "</style>\n",
       "<table border=\"1\" class=\"dataframe\">\n",
       "  <thead>\n",
       "    <tr style=\"text-align: right;\">\n",
       "      <th></th>\n",
       "      <th>phone_number</th>\n",
       "    </tr>\n",
       "  </thead>\n",
       "  <tbody>\n",
       "    <tr>\n",
       "      <th>count</th>\n",
       "      <td>1.000000e+00</td>\n",
       "    </tr>\n",
       "    <tr>\n",
       "      <th>mean</th>\n",
       "      <td>2.648188e+11</td>\n",
       "    </tr>\n",
       "    <tr>\n",
       "      <th>std</th>\n",
       "      <td>NaN</td>\n",
       "    </tr>\n",
       "    <tr>\n",
       "      <th>min</th>\n",
       "      <td>2.648188e+11</td>\n",
       "    </tr>\n",
       "    <tr>\n",
       "      <th>25%</th>\n",
       "      <td>2.648188e+11</td>\n",
       "    </tr>\n",
       "    <tr>\n",
       "      <th>50%</th>\n",
       "      <td>2.648188e+11</td>\n",
       "    </tr>\n",
       "    <tr>\n",
       "      <th>75%</th>\n",
       "      <td>2.648188e+11</td>\n",
       "    </tr>\n",
       "    <tr>\n",
       "      <th>max</th>\n",
       "      <td>2.648188e+11</td>\n",
       "    </tr>\n",
       "  </tbody>\n",
       "</table>\n",
       "</div>"
      ],
      "text/plain": [
       "       phone_number\n",
       "count  1.000000e+00\n",
       "mean   2.648188e+11\n",
       "std             NaN\n",
       "min    2.648188e+11\n",
       "25%    2.648188e+11\n",
       "50%    2.648188e+11\n",
       "75%    2.648188e+11\n",
       "max    2.648188e+11"
      ]
     },
     "execution_count": 9,
     "metadata": {},
     "output_type": "execute_result"
    }
   ],
   "source": [
    "df.describe()"
   ]
  },
  {
   "cell_type": "code",
   "execution_count": null,
   "id": "d3b049cc-2b56-4a66-b553-042a94fb6deb",
   "metadata": {},
   "outputs": [],
   "source": []
  }
 ],
 "metadata": {
  "kernelspec": {
   "display_name": "Python 3 (ipykernel)",
   "language": "python",
   "name": "python3"
  },
  "language_info": {
   "codemirror_mode": {
    "name": "ipython",
    "version": 3
   },
   "file_extension": ".py",
   "mimetype": "text/x-python",
   "name": "python",
   "nbconvert_exporter": "python",
   "pygments_lexer": "ipython3",
   "version": "3.12.4"
  }
 },
 "nbformat": 4,
 "nbformat_minor": 5
}

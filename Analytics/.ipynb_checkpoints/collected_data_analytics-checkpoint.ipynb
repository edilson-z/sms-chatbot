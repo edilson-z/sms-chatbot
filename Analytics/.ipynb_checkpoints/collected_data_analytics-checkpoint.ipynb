{
 "cells": [
  {
   "cell_type": "code",
   "execution_count": 1,
   "metadata": {},
   "outputs": [],
   "source": [
    "# First, import required libraries\n",
    "import pandas as pd\n",
    "import json\n",
    "from datetime import datetime\n",
    "import matplotlib.pyplot as plt\n",
    "import seaborn as sns"
   ]
  },
  {
   "cell_type": "markdown",
   "metadata": {
    "jp-MarkdownHeadingCollapsed": true
   },
   "source": [
    "# Data Preprocessing and Cleaning"
   ]
  },
  {
   "cell_type": "code",
   "execution_count": 2,
   "metadata": {},
   "outputs": [],
   "source": [
    "# Load your JSON data\n",
    "with open('EdilsonsProjects.AgriBot_SMS_Data.json', 'r') as f:\n",
    "    data = json.load(f)"
   ]
  },
  {
   "cell_type": "code",
   "execution_count": 3,
   "metadata": {},
   "outputs": [],
   "source": [
    "def extract_harvest_frequency(frequency_str):\n",
    "    \"\"\"Extracts numeric harvest frequency from string\"\"\"\n",
    "    try:\n",
    "        return int(frequency_str.split()[0])\n",
    "    except:\n",
    "        return None\n",
    "\n",
    "def clean_product_name(product):\n",
    "    \"\"\"Cleans and standardizes product names\"\"\"\n",
    "    product = product.strip().lower()\n",
    "    \n",
    "    # Split products that contain 'and' or commas\n",
    "    products = []\n",
    "    \n",
    "    # First split by comma\n",
    "    comma_split = product.split(',')\n",
    "    for item in comma_split:\n",
    "        # Then split by 'and'\n",
    "        and_split = item.split(' and ')\n",
    "        products.extend(and_split)\n",
    "    \n",
    "    # Clean each product\n",
    "    cleaned_products = []\n",
    "    for p in products:\n",
    "        p = p.strip()\n",
    "        if p:  # Only add non-empty products\n",
    "            cleaned_products.append(p)\n",
    "            \n",
    "    return cleaned_products\n",
    "\n",
    "def clean_main_df(df):\n",
    "    \"\"\"Applies additional cleaning to the main DataFrame\"\"\"\n",
    "    # Sort by submission date\n",
    "    df = df.sort_values('submission_date')\n",
    "    \n",
    "    # Convert region and constituency to title case\n",
    "    df['region'] = df['region'].str.title()\n",
    "    df['constituency'] = df['constituency'].str.title()\n",
    "    \n",
    "    # Create submission_month and submission_year columns for time-based analysis\n",
    "    df['submission_month'] = df['submission_date'].dt.month\n",
    "    df['submission_year'] = df['submission_date'].dt.year\n",
    "    \n",
    "    return df\n",
    "\n",
    "def clean_products_df(df):\n",
    "    \"\"\"Applies additional cleaning to the products DataFrame\"\"\"\n",
    "    # Remove duplicates\n",
    "    df = df.drop_duplicates()\n",
    "    \n",
    "    # Standardize product names\n",
    "    df['product'] = df['product'].str.title()\n",
    "    \n",
    "    return df\n",
    "\n",
    "def preprocess_farmer_data(json_data):\n",
    "    \"\"\"\n",
    "    Preprocesses and cleans farmer data from MongoDB export.\n",
    "    \"\"\"\n",
    "    # Initialize lists to store normalized data\n",
    "    main_records = []\n",
    "    products_records = []\n",
    "    raw_responses_records = []\n",
    "    \n",
    "    for record in json_data:\n",
    "        # Extract main record information\n",
    "        main_record = {\n",
    "            'farmer_id': record['_id']['$oid'],\n",
    "            'phone_number': record['phone_number'],\n",
    "            'submission_date': pd.to_datetime(record['submission_date']['$date']),\n",
    "            'name': record['personal_info']['name'],\n",
    "            'date_of_birth': pd.to_datetime(record['personal_info']['date_of_birth'], format='%d %B %Y'),\n",
    "            'age': pd.to_datetime('now').year - pd.to_datetime(record['personal_info']['date_of_birth'], format='%d %B %Y').year,\n",
    "            'region': record['location']['region'],\n",
    "            'constituency': record['location']['constituency'],\n",
    "            'harvest_frequency': extract_harvest_frequency(record['farming_details']['harvest_frequency']),\n",
    "            'has_government_assistance': record['farming_details']['government_assistance'].lower() == 'yes',\n",
    "            'is_nab_certified': record['farming_details']['nab_certified'],\n",
    "            'challenges': record['challenges']\n",
    "        }\n",
    "        main_records.append(main_record)\n",
    "        \n",
    "        # Extract products information\n",
    "        for product in record['farming_details']['products']:\n",
    "            # Get all products after splitting\n",
    "            cleaned_products = clean_product_name(product)\n",
    "            for clean_product in cleaned_products:\n",
    "                products_record = {\n",
    "                    'farmer_id': record['_id']['$oid'],\n",
    "                    'product': clean_product\n",
    "                }\n",
    "                products_records.append(products_record)\n",
    "        \n",
    "        # Extract raw responses\n",
    "        raw_response = {\n",
    "            'farmer_id': record['_id']['$oid'],\n",
    "            **record['raw_responses']\n",
    "        }\n",
    "        raw_responses_records.append(raw_response)\n",
    "    \n",
    "    # Create DataFrames\n",
    "    main_df = pd.DataFrame(main_records)\n",
    "    products_df = pd.DataFrame(products_records)\n",
    "    raw_responses_df = pd.DataFrame(raw_responses_records)\n",
    "    \n",
    "    # Additional cleaning and formatting\n",
    "    main_df = clean_main_df(main_df)\n",
    "    products_df = clean_products_df(products_df)\n",
    "    \n",
    "    return main_df, products_df, raw_responses_df"
   ]
  },
  {
   "cell_type": "code",
   "execution_count": 4,
   "metadata": {},
   "outputs": [],
   "source": [
    "# Process the data\n",
    "main_df, products_df, raw_responses_df = preprocess_farmer_data(data)"
   ]
  },
  {
   "cell_type": "code",
   "execution_count": 86,
   "metadata": {
    "scrolled": true
   },
   "outputs": [
    {
     "name": "stdout",
     "output_type": "stream",
     "text": [
      "Main DataFrame:\n"
     ]
    },
    {
     "data": {
      "text/html": [
       "<div>\n",
       "<style scoped>\n",
       "    .dataframe tbody tr th:only-of-type {\n",
       "        vertical-align: middle;\n",
       "    }\n",
       "\n",
       "    .dataframe tbody tr th {\n",
       "        vertical-align: top;\n",
       "    }\n",
       "\n",
       "    .dataframe thead th {\n",
       "        text-align: right;\n",
       "    }\n",
       "</style>\n",
       "<table border=\"1\" class=\"dataframe\">\n",
       "  <thead>\n",
       "    <tr style=\"text-align: right;\">\n",
       "      <th></th>\n",
       "      <th>farmer_id</th>\n",
       "      <th>phone_number</th>\n",
       "      <th>submission_date</th>\n",
       "      <th>name</th>\n",
       "      <th>date_of_birth</th>\n",
       "      <th>age</th>\n",
       "      <th>region</th>\n",
       "      <th>constituency</th>\n",
       "      <th>harvest_frequency</th>\n",
       "      <th>has_government_assistance</th>\n",
       "      <th>is_nab_certified</th>\n",
       "      <th>challenges</th>\n",
       "      <th>submission_month</th>\n",
       "      <th>submission_year</th>\n",
       "    </tr>\n",
       "  </thead>\n",
       "  <tbody>\n",
       "    <tr>\n",
       "      <th>0</th>\n",
       "      <td>67208e32af224b1d581a8805</td>\n",
       "      <td>+264818779053</td>\n",
       "      <td>2024-10-29 07:26:42.818000+00:00</td>\n",
       "      <td>Edilson Zau</td>\n",
       "      <td>2003-10-24</td>\n",
       "      <td>21</td>\n",
       "      <td>Khomas</td>\n",
       "      <td>Windhoek</td>\n",
       "      <td>3</td>\n",
       "      <td>False</td>\n",
       "      <td>False</td>\n",
       "      <td>My main challenge is getting the funds for gro...</td>\n",
       "      <td>10</td>\n",
       "      <td>2024</td>\n",
       "    </tr>\n",
       "  </tbody>\n",
       "</table>\n",
       "</div>"
      ],
      "text/plain": [
       "                  farmer_id   phone_number                  submission_date  \\\n",
       "0  67208e32af224b1d581a8805  +264818779053 2024-10-29 07:26:42.818000+00:00   \n",
       "\n",
       "          name date_of_birth  age  region constituency  harvest_frequency  \\\n",
       "0  Edilson Zau    2003-10-24   21  Khomas     Windhoek                  3   \n",
       "\n",
       "   has_government_assistance  is_nab_certified  \\\n",
       "0                      False             False   \n",
       "\n",
       "                                          challenges  submission_month  \\\n",
       "0  My main challenge is getting the funds for gro...                10   \n",
       "\n",
       "   submission_year  \n",
       "0             2024  "
      ]
     },
     "metadata": {},
     "output_type": "display_data"
    }
   ],
   "source": [
    "# Examine the DataFrames\n",
    "print(\"Main DataFrame:\")\n",
    "display(main_df)"
   ]
  },
  {
   "cell_type": "code",
   "execution_count": 80,
   "metadata": {},
   "outputs": [
    {
     "name": "stdout",
     "output_type": "stream",
     "text": [
      "\n",
      "Products DataFrame:\n"
     ]
    },
    {
     "data": {
      "text/html": [
       "<div>\n",
       "<style scoped>\n",
       "    .dataframe tbody tr th:only-of-type {\n",
       "        vertical-align: middle;\n",
       "    }\n",
       "\n",
       "    .dataframe tbody tr th {\n",
       "        vertical-align: top;\n",
       "    }\n",
       "\n",
       "    .dataframe thead th {\n",
       "        text-align: right;\n",
       "    }\n",
       "</style>\n",
       "<table border=\"1\" class=\"dataframe\">\n",
       "  <thead>\n",
       "    <tr style=\"text-align: right;\">\n",
       "      <th></th>\n",
       "      <th>farmer_id</th>\n",
       "      <th>product</th>\n",
       "    </tr>\n",
       "  </thead>\n",
       "  <tbody>\n",
       "    <tr>\n",
       "      <th>0</th>\n",
       "      <td>67208e32af224b1d581a8805</td>\n",
       "      <td>Tomatoes</td>\n",
       "    </tr>\n",
       "    <tr>\n",
       "      <th>1</th>\n",
       "      <td>67208e32af224b1d581a8805</td>\n",
       "      <td>Carrots</td>\n",
       "    </tr>\n",
       "    <tr>\n",
       "      <th>2</th>\n",
       "      <td>67208e32af224b1d581a8805</td>\n",
       "      <td>Cabbage</td>\n",
       "    </tr>\n",
       "  </tbody>\n",
       "</table>\n",
       "</div>"
      ],
      "text/plain": [
       "                  farmer_id   product\n",
       "0  67208e32af224b1d581a8805  Tomatoes\n",
       "1  67208e32af224b1d581a8805   Carrots\n",
       "2  67208e32af224b1d581a8805   Cabbage"
      ]
     },
     "metadata": {},
     "output_type": "display_data"
    }
   ],
   "source": [
    "print(\"\\nProducts DataFrame:\")\n",
    "display(products_df)"
   ]
  },
  {
   "cell_type": "code",
   "execution_count": 82,
   "metadata": {},
   "outputs": [
    {
     "name": "stdout",
     "output_type": "stream",
     "text": [
      "\n",
      "Raw Responses DataFrame:\n"
     ]
    },
    {
     "data": {
      "text/html": [
       "<div>\n",
       "<style scoped>\n",
       "    .dataframe tbody tr th:only-of-type {\n",
       "        vertical-align: middle;\n",
       "    }\n",
       "\n",
       "    .dataframe tbody tr th {\n",
       "        vertical-align: top;\n",
       "    }\n",
       "\n",
       "    .dataframe thead th {\n",
       "        text-align: right;\n",
       "    }\n",
       "</style>\n",
       "<table border=\"1\" class=\"dataframe\">\n",
       "  <thead>\n",
       "    <tr style=\"text-align: right;\">\n",
       "      <th></th>\n",
       "      <th>farmer_id</th>\n",
       "      <th>Are you certified by the Namibia Agronomic Board (NAB)? (Yes/No)</th>\n",
       "      <th>Do you get any help from the Ministry of Agriculture Water and Land reform or any other institutions?</th>\n",
       "      <th>How often do you harvest?\\n\\n(Example: 3 or 4 Times a year)</th>\n",
       "      <th>What do you farm?\\n\\n(Please provide only your produce. Example: Tomatoes, potatoes, onions, and spinach)</th>\n",
       "      <th>What is your date of birth?\\n\\n(Please provide only your date of birth. Example: 12 November 1987)</th>\n",
       "      <th>What is your name?\\n\\n(Please provide only your name. Example: Edilson Zau)</th>\n",
       "      <th>Where are you located?\\n\\n(Please provide your region and constituency. Example: Khomas, Windhoek)</th>\n",
       "      <th>What are your challenges? (Please be as detailed as possible)</th>\n",
       "    </tr>\n",
       "  </thead>\n",
       "  <tbody>\n",
       "    <tr>\n",
       "      <th>0</th>\n",
       "      <td>67208e32af224b1d581a8805</td>\n",
       "      <td>No</td>\n",
       "      <td>No</td>\n",
       "      <td>3 Times a year</td>\n",
       "      <td>Tomatoes, carrots and cabbage</td>\n",
       "      <td>24 October 2003</td>\n",
       "      <td>Edilson Zau</td>\n",
       "      <td>Khomas, Windhoek</td>\n",
       "      <td>My main challenge is getting the funds for gro...</td>\n",
       "    </tr>\n",
       "  </tbody>\n",
       "</table>\n",
       "</div>"
      ],
      "text/plain": [
       "                  farmer_id  \\\n",
       "0  67208e32af224b1d581a8805   \n",
       "\n",
       "  Are you certified by the Namibia Agronomic Board (NAB)? (Yes/No)  \\\n",
       "0                                                 No                 \n",
       "\n",
       "  Do you get any help from the Ministry of Agriculture Water and Land reform or any other institutions?  \\\n",
       "0                                                 No                                                      \n",
       "\n",
       "  How often do you harvest?\\n\\n(Example: 3 or 4 Times a year)  \\\n",
       "0                                     3 Times a year            \n",
       "\n",
       "  What do you farm?\\n\\n(Please provide only your produce. Example: Tomatoes, potatoes, onions, and spinach)  \\\n",
       "0                      Tomatoes, carrots and cabbage                                                          \n",
       "\n",
       "  What is your date of birth?\\n\\n(Please provide only your date of birth. Example: 12 November 1987)  \\\n",
       "0                                    24 October 2003                                                   \n",
       "\n",
       "  What is your name?\\n\\n(Please provide only your name. Example: Edilson Zau)  \\\n",
       "0                                        Edilson Zau                            \n",
       "\n",
       "  Where are you located?\\n\\n(Please provide your region and constituency. Example: Khomas, Windhoek)  \\\n",
       "0                                   Khomas, Windhoek                                                   \n",
       "\n",
       "  What are your challenges? (Please be as detailed as possible)  \n",
       "0  My main challenge is getting the funds for gro...             "
      ]
     },
     "metadata": {},
     "output_type": "display_data"
    }
   ],
   "source": [
    "print(\"\\nRaw Responses DataFrame:\")\n",
    "display(raw_responses_df)"
   ]
  },
  {
   "cell_type": "markdown",
   "metadata": {},
   "source": [
    "# Data Analytics"
   ]
  },
  {
   "cell_type": "code",
   "execution_count": 62,
   "metadata": {},
   "outputs": [],
   "source": [
    "# Create visualizations\n",
    "fig = (15, 10)"
   ]
  },
  {
   "cell_type": "code",
   "execution_count": 74,
   "metadata": {},
   "outputs": [
    {
     "data": {
      "image/png": "[encoded data removed]",
      "text/plain": [
       "<Figure size 1500x1000 with 1 Axes>"
      ]
     },
     "metadata": {},
     "output_type": "display_data"
    }
   ],
   "source": [
    "# 1. Age distribution\n",
    "plt.figure(figsize=fig)\n",
    "plt.subplot(2, 2, 1)\n",
    "sns.histplot(data=main_df, x='age', bins=20)\n",
    "plt.title('Age Distribution of Farmers')\n",
    "plt.show()"
   ]
  },
  {
   "cell_type": "code",
   "execution_count": 66,
   "metadata": {},
   "outputs": [
    {
     "data": {
      "image/png": "[encoded data removed]",
      "text/plain": [
       "<Figure size 1500x1000 with 1 Axes>"
      ]
     },
     "metadata": {},
     "output_type": "display_data"
    }
   ],
   "source": [
    "# 2. Product distribution\n",
    "plt.figure(figsize=fig)\n",
    "plt.subplot(2, 2, 2)\n",
    "products_df['product'].value_counts().plot(kind='bar')\n",
    "plt.title('Distribution of Farm Products')\n",
    "plt.xticks(rotation=45)\n",
    "plt.show()"
   ]
  },
  {
   "cell_type": "code",
   "execution_count": 88,
   "metadata": {},
   "outputs": [
    {
     "data": {
      "image/png": "[encoded data removed]",
      "text/plain": [
       "<Figure size 1500x1000 with 1 Axes>"
      ]
     },
     "metadata": {},
     "output_type": "display_data"
    }
   ],
   "source": [
    "# 3. NAB Certification Status\n",
    "plt.figure(figsize=fig)\n",
    "plt.subplot(2, 2, 3)\n",
    "certification_data = main_df['is_nab_certified'].value_counts()\n",
    "labels = certification_data.index.map({True: 'NAB Certified', False: 'Not Certified'})\n",
    "plt.pie(certification_data.values, \n",
    "        labels=labels,\n",
    "        autopct='%1.1f%%',\n",
    "        colors=['#ff9999','#66b3ff'])\n",
    "plt.title('NAB Certification Status')\n",
    "plt.show()"
   ]
  },
  {
   "cell_type": "code",
   "execution_count": 90,
   "metadata": {},
   "outputs": [
    {
     "data": {
      "image/png": "[encoded data removed]",
      "text/plain": [
       "<Figure size 1500x1000 with 1 Axes>"
      ]
     },
     "metadata": {},
     "output_type": "display_data"
    }
   ],
   "source": [
    "# 4. Government Assistance Status\n",
    "plt.figure(figsize=fig)\n",
    "plt.subplot(2, 2, 4)\n",
    "assistance_data = main_df['has_government_assistance'].value_counts()\n",
    "labels = assistance_data.index.map({True: 'Has Assistance', False: 'No Assistance'})\n",
    "plt.pie(assistance_data.values,\n",
    "        labels=labels,\n",
    "        autopct='%1.1f%%',\n",
    "        colors=['#99ff99','#ff99c2'])\n",
    "plt.title('Government Assistance Status')\n",
    "plt.show()"
   ]
  },
  {
   "cell_type": "code",
   "execution_count": 34,
   "metadata": {},
   "outputs": [
    {
     "name": "stdout",
     "output_type": "stream",
     "text": [
      "\n",
      "Product Distribution:\n",
      "product\n",
      "Tomatoes    1\n",
      "Carrots     1\n",
      "Cabbage     1\n",
      "Name: count, dtype: int64\n"
     ]
    }
   ],
   "source": [
    "# Print summary statistics\n",
    "print(\"\\nProduct Distribution:\")\n",
    "print(products_df['product'].value_counts())"
   ]
  },
  {
   "cell_type": "code",
   "execution_count": null,
   "metadata": {},
   "outputs": [],
   "source": []
  }
 ],
 "metadata": {
  "kernelspec": {
   "display_name": "Python 3 (ipykernel)",
   "language": "python",
   "name": "python3"
  },
  "language_info": {
   "codemirror_mode": {
    "name": "ipython",
    "version": 3
   },
   "file_extension": ".py",
   "mimetype": "text/x-python",
   "name": "python",
   "nbconvert_exporter": "python",
   "pygments_lexer": "ipython3",
   "version": "3.12.4"
  }
 },
 "nbformat": 4,
 "nbformat_minor": 4
}

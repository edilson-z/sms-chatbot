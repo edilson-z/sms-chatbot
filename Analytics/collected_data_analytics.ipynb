{
 "cells": [
  {
   "cell_type": "code",
   "execution_count": 1,
   "id": "9543c847-bd76-4463-9dec-a7b102697021",
   "metadata": {},
   "outputs": [],
   "source": [
    "import pandas as pd\n",
    "import json\n",
    "from datetime import datetime\n",
    "import matplotlib.pyplot as plt\n",
    "import seaborn as sns"
   ]
  },
  {
   "cell_type": "code",
   "execution_count": 2,
   "id": "ff8a0b2e-cb4b-4d05-aae8-7c95d2b59af5",
   "metadata": {},
   "outputs": [],
   "source": [
    "with open('EdilsonsProjects.AgriBot_SMS_Data.json', 'r') as f:\n",
    "    data = json.load(f)"
   ]
  },
  {
   "cell_type": "code",
   "execution_count": 3,
   "id": "185b29d3-680b-40fa-aa7c-8ee1994803c5",
   "metadata": {},
   "outputs": [
    {
     "data": {
      "text/plain": [
       "[{'_id': {'$oid': '67208e32af224b1d581a8805'},\n",
       "  'phone_number': '+264818779053',\n",
       "  'submission_date': {'$date': '2024-10-29T07:26:42.818Z'},\n",
       "  'personal_info': {'name': 'Edilson Zau',\n",
       "   'date_of_birth': '24 October 2003',\n",
       "   'contact': '+264818779053'},\n",
       "  'location': {'region': 'Khomas',\n",
       "   'constituency': 'Windhoek',\n",
       "   'raw_input': 'Khomas, Windhoek'},\n",
       "  'farming_details': {'products': ['Tomatoes', 'carrots and cabbage'],\n",
       "   'harvest_frequency': '3 Times a year',\n",
       "   'government_assistance': 'No',\n",
       "   'nab_certified': False},\n",
       "  'challenges': 'My main challenge is getting the funds for growing the crops',\n",
       "  'raw_responses': {'Are you certified by the Namibia Agronomic Board (NAB)? (Yes/No)': 'No',\n",
       "   'Do you get any help from the Ministry of Agriculture Water and Land reform or any other institutions?': 'No',\n",
       "   'How often do you harvest?\\n\\n(Example: 3 or 4 Times a year)': '3 Times a year',\n",
       "   'What do you farm?\\n\\n(Please provide only your produce. Example: Tomatoes, potatoes, onions, and spinach)': 'Tomatoes, carrots and cabbage',\n",
       "   'What is your date of birth?\\n\\n(Please provide only your date of birth. Example: 12 November 1987)': '24 October 2003',\n",
       "   'What is your name?\\n\\n(Please provide only your name. Example: Edilson Zau)': 'Edilson Zau',\n",
       "   'Where are you located?\\n\\n(Please provide your region and constituency. Example: Khomas, Windhoek)': 'Khomas, Windhoek',\n",
       "   'What are your challenges? (Please be as detailed as possible)': 'My main challenge is getting the funds for growing the crops'}}]"
      ]
     },
     "execution_count": 3,
     "metadata": {},
     "output_type": "execute_result"
    }
   ],
   "source": [
    "data"
   ]
  },
  {
   "cell_type": "code",
   "execution_count": 4,
   "id": "d3b049cc-2b56-4a66-b553-042a94fb6deb",
   "metadata": {},
   "outputs": [],
   "source": [
    "# Copy the preprocessing functions from the previous code\n",
    "def extract_harvest_frequency(frequency_str):\n",
    "    \"\"\"Extracts numeric harvest frequency from string\"\"\"\n",
    "    try:\n",
    "        return int(frequency_str.split()[0])\n",
    "    except:\n",
    "        return None"
   ]
  },
  {
   "cell_type": "code",
   "execution_count": 5,
   "id": "3d6925fd-1e6b-484f-8ff2-698e6906e6c4",
   "metadata": {},
   "outputs": [],
   "source": [
    "def clean_product_name(product):\n",
    "    \"\"\"Cleans and standardizes product names\"\"\"\n",
    "    product = product.strip().lower()\n",
    "    # Remove common joining words\n",
    "    product = product.replace(' and ', ',')\n",
    "    # Split if multiple products were combined\n",
    "    if ',' in product:\n",
    "        products = [p.strip() for p in product.split(',')]\n",
    "        return products[0]  # Return first product, others will be separate records\n",
    "    return product"
   ]
  },
  {
   "cell_type": "code",
   "execution_count": 6,
   "id": "a0502b1b-7b0c-4b4b-a0e2-af59a2799243",
   "metadata": {},
   "outputs": [],
   "source": [
    "def clean_main_df(df):\n",
    "    \"\"\"Applies additional cleaning to the main DataFrame\"\"\"\n",
    "    # Sort by submission date\n",
    "    df = df.sort_values('submission_date')\n",
    "    \n",
    "    # Convert region and constituency to title case\n",
    "    df['region'] = df['region'].str.title()\n",
    "    df['constituency'] = df['constituency'].str.title()\n",
    "    \n",
    "    # Create submission_month and submission_year columns for time-based analysis\n",
    "    df['submission_month'] = df['submission_date'].dt.month\n",
    "    df['submission_year'] = df['submission_date'].dt.year\n",
    "    \n",
    "    return df"
   ]
  },
  {
   "cell_type": "code",
   "execution_count": 9,
   "id": "758e709a-73d5-4385-81a9-a617c30ca586",
   "metadata": {},
   "outputs": [],
   "source": [
    "def clean_products_df(df):\n",
    "    \"\"\"Applies additional cleaning to the products DataFrame\"\"\"\n",
    "    # Remove duplicates\n",
    "    df = df.drop_duplicates()\n",
    "    \n",
    "    # Standardize product names\n",
    "    df['product'] = df['product'].str.title()\n",
    "    \n",
    "    return df"
   ]
  },
  {
   "cell_type": "code",
   "execution_count": 11,
   "id": "ad081247-4c2e-4332-8fc1-faa9685867c8",
   "metadata": {},
   "outputs": [],
   "source": [
    "def preprocess_farmer_data(json_data):\n",
    "    \"\"\"\n",
    "    Preprocesses and cleans farmer data from MongoDB export.\n",
    "    \"\"\"\n",
    "    # Initialize lists to store normalized data\n",
    "    main_records = []\n",
    "    products_records = []\n",
    "    raw_responses_records = []\n",
    "    \n",
    "    for record in json_data:\n",
    "        # Extract main record information\n",
    "        main_record = {\n",
    "            'farmer_id': record['_id']['$oid'],\n",
    "            'phone_number': record['phone_number'],\n",
    "            'submission_date': pd.to_datetime(record['submission_date']['$date']),\n",
    "            'name': record['personal_info']['name'],\n",
    "            'date_of_birth': pd.to_datetime(record['personal_info']['date_of_birth'], format='%d %B %Y'),\n",
    "            'age': pd.to_datetime('now').year - pd.to_datetime(record['personal_info']['date_of_birth'], format='%d %B %Y').year,\n",
    "            'region': record['location']['region'],\n",
    "            'constituency': record['location']['constituency'],\n",
    "            'harvest_frequency': extract_harvest_frequency(record['farming_details']['harvest_frequency']),\n",
    "            'has_government_assistance': record['farming_details']['government_assistance'].lower() == 'yes',\n",
    "            'is_nab_certified': record['farming_details']['nab_certified'],\n",
    "            'challenges': record['challenges']\n",
    "        }\n",
    "        main_records.append(main_record)\n",
    "        \n",
    "        # Extract products information\n",
    "        for product in record['farming_details']['products']:\n",
    "            products_record = {\n",
    "                'farmer_id': record['_id']['$oid'],\n",
    "                'product': clean_product_name(product)\n",
    "            }\n",
    "            products_records.append(products_record)\n",
    "        \n",
    "        # Extract raw responses\n",
    "        raw_response = {\n",
    "            'farmer_id': record['_id']['$oid'],\n",
    "            **record['raw_responses']\n",
    "        }\n",
    "        raw_responses_records.append(raw_response)\n",
    "    \n",
    "    # Create DataFrames\n",
    "    main_df = pd.DataFrame(main_records)\n",
    "    products_df = pd.DataFrame(products_records)\n",
    "    raw_responses_df = pd.DataFrame(raw_responses_records)\n",
    "    \n",
    "    # Additional cleaning and formatting\n",
    "    main_df = clean_main_df(main_df)\n",
    "    products_df = clean_products_df(products_df)\n",
    "    \n",
    "    return main_df, products_df, raw_responses_df"
   ]
  },
  {
   "cell_type": "code",
   "execution_count": 13,
   "id": "26baea53-2dad-4f99-b578-31f205787411",
   "metadata": {
    "scrolled": true
   },
   "outputs": [],
   "source": [
    "# Process the data\n",
    "main_df, products_df, raw_responses_df = preprocess_farmer_data(data)"
   ]
  },
  {
   "cell_type": "code",
   "execution_count": 15,
   "id": "d69e9049-18e4-46f5-aa47-6a6bc605606e",
   "metadata": {},
   "outputs": [
    {
     "name": "stdout",
     "output_type": "stream",
     "text": [
      "\n",
      "Raw Responses DataFrame:\n"
     ]
    },
    {
     "data": {
      "text/html": [
       "<div>\n",
       "<style scoped>\n",
       "    .dataframe tbody tr th:only-of-type {\n",
       "        vertical-align: middle;\n",
       "    }\n",
       "\n",
       "    .dataframe tbody tr th {\n",
       "        vertical-align: top;\n",
       "    }\n",
       "\n",
       "    .dataframe thead th {\n",
       "        text-align: right;\n",
       "    }\n",
       "</style>\n",
       "<table border=\"1\" class=\"dataframe\">\n",
       "  <thead>\n",
       "    <tr style=\"text-align: right;\">\n",
       "      <th></th>\n",
       "      <th>farmer_id</th>\n",
       "      <th>Are you certified by the Namibia Agronomic Board (NAB)? (Yes/No)</th>\n",
       "      <th>Do you get any help from the Ministry of Agriculture Water and Land reform or any other institutions?</th>\n",
       "      <th>How often do you harvest?\\n\\n(Example: 3 or 4 Times a year)</th>\n",
       "      <th>What do you farm?\\n\\n(Please provide only your produce. Example: Tomatoes, potatoes, onions, and spinach)</th>\n",
       "      <th>What is your date of birth?\\n\\n(Please provide only your date of birth. Example: 12 November 1987)</th>\n",
       "      <th>What is your name?\\n\\n(Please provide only your name. Example: Edilson Zau)</th>\n",
       "      <th>Where are you located?\\n\\n(Please provide your region and constituency. Example: Khomas, Windhoek)</th>\n",
       "      <th>What are your challenges? (Please be as detailed as possible)</th>\n",
       "    </tr>\n",
       "  </thead>\n",
       "  <tbody>\n",
       "    <tr>\n",
       "      <th>0</th>\n",
       "      <td>67208e32af224b1d581a8805</td>\n",
       "      <td>No</td>\n",
       "      <td>No</td>\n",
       "      <td>3 Times a year</td>\n",
       "      <td>Tomatoes, carrots and cabbage</td>\n",
       "      <td>24 October 2003</td>\n",
       "      <td>Edilson Zau</td>\n",
       "      <td>Khomas, Windhoek</td>\n",
       "      <td>My main challenge is getting the funds for gro...</td>\n",
       "    </tr>\n",
       "  </tbody>\n",
       "</table>\n",
       "</div>"
      ],
      "text/plain": [
       "                  farmer_id  \\\n",
       "0  67208e32af224b1d581a8805   \n",
       "\n",
       "  Are you certified by the Namibia Agronomic Board (NAB)? (Yes/No)  \\\n",
       "0                                                 No                 \n",
       "\n",
       "  Do you get any help from the Ministry of Agriculture Water and Land reform or any other institutions?  \\\n",
       "0                                                 No                                                      \n",
       "\n",
       "  How often do you harvest?\\n\\n(Example: 3 or 4 Times a year)  \\\n",
       "0                                     3 Times a year            \n",
       "\n",
       "  What do you farm?\\n\\n(Please provide only your produce. Example: Tomatoes, potatoes, onions, and spinach)  \\\n",
       "0                      Tomatoes, carrots and cabbage                                                          \n",
       "\n",
       "  What is your date of birth?\\n\\n(Please provide only your date of birth. Example: 12 November 1987)  \\\n",
       "0                                    24 October 2003                                                   \n",
       "\n",
       "  What is your name?\\n\\n(Please provide only your name. Example: Edilson Zau)  \\\n",
       "0                                        Edilson Zau                            \n",
       "\n",
       "  Where are you located?\\n\\n(Please provide your region and constituency. Example: Khomas, Windhoek)  \\\n",
       "0                                   Khomas, Windhoek                                                   \n",
       "\n",
       "  What are your challenges? (Please be as detailed as possible)  \n",
       "0  My main challenge is getting the funds for gro...             "
      ]
     },
     "metadata": {},
     "output_type": "display_data"
    }
   ],
   "source": [
    "print(\"\\nRaw Responses DataFrame:\")\n",
    "display(raw_responses_df)"
   ]
  },
  {
   "cell_type": "code",
   "execution_count": 17,
   "id": "302b5a35-a6f2-4368-a7be-b0c6693f6494",
   "metadata": {},
   "outputs": [
    {
     "name": "stdout",
     "output_type": "stream",
     "text": [
      "Main DataFrame:\n"
     ]
    },
    {
     "data": {
      "text/html": [
       "<div>\n",
       "<style scoped>\n",
       "    .dataframe tbody tr th:only-of-type {\n",
       "        vertical-align: middle;\n",
       "    }\n",
       "\n",
       "    .dataframe tbody tr th {\n",
       "        vertical-align: top;\n",
       "    }\n",
       "\n",
       "    .dataframe thead th {\n",
       "        text-align: right;\n",
       "    }\n",
       "</style>\n",
       "<table border=\"1\" class=\"dataframe\">\n",
       "  <thead>\n",
       "    <tr style=\"text-align: right;\">\n",
       "      <th></th>\n",
       "      <th>farmer_id</th>\n",
       "      <th>phone_number</th>\n",
       "      <th>submission_date</th>\n",
       "      <th>name</th>\n",
       "      <th>date_of_birth</th>\n",
       "      <th>age</th>\n",
       "      <th>region</th>\n",
       "      <th>constituency</th>\n",
       "      <th>harvest_frequency</th>\n",
       "      <th>has_government_assistance</th>\n",
       "      <th>is_nab_certified</th>\n",
       "      <th>challenges</th>\n",
       "      <th>submission_month</th>\n",
       "      <th>submission_year</th>\n",
       "    </tr>\n",
       "  </thead>\n",
       "  <tbody>\n",
       "    <tr>\n",
       "      <th>0</th>\n",
       "      <td>67208e32af224b1d581a8805</td>\n",
       "      <td>+264818779053</td>\n",
       "      <td>2024-10-29 07:26:42.818000+00:00</td>\n",
       "      <td>Edilson Zau</td>\n",
       "      <td>2003-10-24</td>\n",
       "      <td>21</td>\n",
       "      <td>Khomas</td>\n",
       "      <td>Windhoek</td>\n",
       "      <td>3</td>\n",
       "      <td>False</td>\n",
       "      <td>False</td>\n",
       "      <td>My main challenge is getting the funds for gro...</td>\n",
       "      <td>10</td>\n",
       "      <td>2024</td>\n",
       "    </tr>\n",
       "  </tbody>\n",
       "</table>\n",
       "</div>"
      ],
      "text/plain": [
       "                  farmer_id   phone_number                  submission_date  \\\n",
       "0  67208e32af224b1d581a8805  +264818779053 2024-10-29 07:26:42.818000+00:00   \n",
       "\n",
       "          name date_of_birth  age  region constituency  harvest_frequency  \\\n",
       "0  Edilson Zau    2003-10-24   21  Khomas     Windhoek                  3   \n",
       "\n",
       "   has_government_assistance  is_nab_certified  \\\n",
       "0                      False             False   \n",
       "\n",
       "                                          challenges  submission_month  \\\n",
       "0  My main challenge is getting the funds for gro...                10   \n",
       "\n",
       "   submission_year  \n",
       "0             2024  "
      ]
     },
     "metadata": {},
     "output_type": "display_data"
    }
   ],
   "source": [
    "# Examine the results\n",
    "print(\"Main DataFrame:\")\n",
    "display(main_df)"
   ]
  },
  {
   "cell_type": "code",
   "execution_count": 19,
   "id": "3391dfce-7458-4bc3-8fc7-e9b385a204e6",
   "metadata": {},
   "outputs": [
    {
     "name": "stdout",
     "output_type": "stream",
     "text": [
      "\n",
      "Products DataFrame:\n"
     ]
    },
    {
     "data": {
      "text/html": [
       "<div>\n",
       "<style scoped>\n",
       "    .dataframe tbody tr th:only-of-type {\n",
       "        vertical-align: middle;\n",
       "    }\n",
       "\n",
       "    .dataframe tbody tr th {\n",
       "        vertical-align: top;\n",
       "    }\n",
       "\n",
       "    .dataframe thead th {\n",
       "        text-align: right;\n",
       "    }\n",
       "</style>\n",
       "<table border=\"1\" class=\"dataframe\">\n",
       "  <thead>\n",
       "    <tr style=\"text-align: right;\">\n",
       "      <th></th>\n",
       "      <th>farmer_id</th>\n",
       "      <th>product</th>\n",
       "    </tr>\n",
       "  </thead>\n",
       "  <tbody>\n",
       "    <tr>\n",
       "      <th>0</th>\n",
       "      <td>67208e32af224b1d581a8805</td>\n",
       "      <td>Tomatoes</td>\n",
       "    </tr>\n",
       "    <tr>\n",
       "      <th>1</th>\n",
       "      <td>67208e32af224b1d581a8805</td>\n",
       "      <td>Carrots</td>\n",
       "    </tr>\n",
       "  </tbody>\n",
       "</table>\n",
       "</div>"
      ],
      "text/plain": [
       "                  farmer_id   product\n",
       "0  67208e32af224b1d581a8805  Tomatoes\n",
       "1  67208e32af224b1d581a8805   Carrots"
      ]
     },
     "metadata": {},
     "output_type": "display_data"
    }
   ],
   "source": [
    "print(\"\\nProducts DataFrame:\")\n",
    "display(products_df)"
   ]
  },
  {
   "cell_type": "code",
   "execution_count": null,
   "id": "eb70f561-5a47-4466-b582-3ae4c33ba15a",
   "metadata": {
    "scrolled": true
   },
   "outputs": [],
   "source": []
  },
  {
   "cell_type": "code",
   "execution_count": null,
   "id": "8c09d899-615a-4bae-98f0-45a4d4f81691",
   "metadata": {},
   "outputs": [],
   "source": []
  },
  {
   "cell_type": "code",
   "execution_count": null,
   "id": "57e0e8e7-67a4-49be-98c2-786c892ef4bc",
   "metadata": {},
   "outputs": [],
   "source": []
  }
 ],
 "metadata": {
  "kernelspec": {
   "display_name": "Python 3 (ipykernel)",
   "language": "python",
   "name": "python3"
  },
  "language_info": {
   "codemirror_mode": {
    "name": "ipython",
    "version": 3
   },
   "file_extension": ".py",
   "mimetype": "text/x-python",
   "name": "python",
   "nbconvert_exporter": "python",
   "pygments_lexer": "ipython3",
   "version": "3.12.4"
  }
 },
 "nbformat": 4,
 "nbformat_minor": 5
}
